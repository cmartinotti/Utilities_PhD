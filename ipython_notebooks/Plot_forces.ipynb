{
 "cells": [
  {
   "cell_type": "code",
   "execution_count": 1,
   "metadata": {
    "scrolled": true
   },
   "outputs": [
    {
     "name": "stdout",
     "output_type": "stream",
     "text": [
      "/home/carlo/work/TERPENES_REST+Umbrella/tests/FIIIIIXED/mpiforces\n"
     ]
    }
   ],
   "source": [
    "cd /home/carlo/work/TERPENES_REST+Umbrella/tests/FIIIIIXED/mpiforces/"
   ]
  },
  {
   "cell_type": "code",
   "execution_count": 4,
   "metadata": {},
   "outputs": [
    {
     "name": "stdout",
     "output_type": "stream",
     "text": [
      "   0        1        2         3        4        5        6        7       \\\n",
      "0  14.998 -193.265 -179.194  43.66140  715.622  153.652  576.201  165.575   \n",
      "1  15.000 -251.206 -197.261  35.77680  972.334  164.913  300.787 -102.192   \n",
      "2  15.002 -111.131  106.754  -3.80397  915.143  311.734 -529.460 -585.876   \n",
      "\n",
      "    8        9        ...      105165   105166   105167   105168   105169  \\\n",
      "0  438.565 -767.906   ...     784.982  297.097 -105.931 -325.719 -110.801   \n",
      "1  862.344 -402.356   ...     782.249  284.976 -104.747 -302.326 -123.344   \n",
      "2 -442.399 -189.777   ...    -662.637 -709.106 -866.477  256.653 -772.374   \n",
      "\n",
      "      105170   105171    105172   105173   105174  \n",
      "0  -28.89860 -688.206  -72.2465 -354.469  467.741  \n",
      "1   -5.96747 -689.614 -112.2960 -428.924  495.000  \n",
      "2  363.42900   95.839  434.0250  227.298 -562.743  \n",
      "\n",
      "[3 rows x 105175 columns]\n",
      "   0         1        2        3         4         5         6        7       \\\n",
      "0  15.998   42.1326 -240.168 -24.2475   14.5398  574.0810 -281.8830  393.238   \n",
      "1  16.000   85.2997 -284.764 -40.5162   22.6205  686.4420 -385.9020  298.020   \n",
      "2  16.002 -103.7820 -179.487  15.3339 -138.0530  -23.8854  -76.5667  354.445   \n",
      "\n",
      "    8          9        ...      105165    105166     105167   105168  \\\n",
      "0  413.545 -325.56800   ...     842.720  -41.1923   -1.70251 -861.241   \n",
      "1 -111.604    6.68265   ...     954.368  -58.3887   -4.24900 -901.669   \n",
      "2 -148.988 -475.34900   ...     651.494  137.4550 -500.94100 -120.001   \n",
      "\n",
      "    105169     105170   105171   105172   105173   105174  \n",
      "0  465.317 -258.43900 -308.799 -375.307 -602.137 -335.577  \n",
      "1  501.734 -258.85200 -328.848 -459.062 -594.314 -337.030  \n",
      "2 -368.806   -9.54509 -573.508  -70.776 -175.910  149.019  \n",
      "\n",
      "[3 rows x 105175 columns]\n"
     ]
    }
   ],
   "source": [
    "print(df.head())\n",
    "print(df2.head())"
   ]
  },
  {
   "cell_type": "code",
   "execution_count": 7,
   "metadata": {},
   "outputs": [
    {
     "data": {
      "text/html": [
       "<script>requirejs.config({paths: { 'plotly': ['https://cdn.plot.ly/plotly-latest.min']},});if(!window.Plotly) {{require(['plotly'],function(plotly) {window.Plotly=plotly;});}}</script>"
      ],
      "text/vnd.plotly.v1+html": [
       "<script>requirejs.config({paths: { 'plotly': ['https://cdn.plot.ly/plotly-latest.min']},});if(!window.Plotly) {{require(['plotly'],function(plotly) {window.Plotly=plotly;});}}</script>"
      ]
     },
     "metadata": {},
     "output_type": "display_data"
    },
    {
     "name": "stderr",
     "output_type": "stream",
     "text": [
      "/home/carlo/programs/anaconda2/lib/python2.7/site-packages/ipykernel_launcher.py:13: FutureWarning:\n",
      "\n",
      "Method .as_matrix will be removed in a future version. Use .values instead.\n",
      "\n",
      "/home/carlo/programs/anaconda2/lib/python2.7/site-packages/ipykernel_launcher.py:14: FutureWarning:\n",
      "\n",
      "Method .as_matrix will be removed in a future version. Use .values instead.\n",
      "\n"
     ]
    },
    {
     "data": {
      "text/plain": [
       "'file:///home/carlo/work/TERPENES_REST+Umbrella/tests/FIIIIIXED/mpiforces/temp-plot.html'"
      ]
     },
     "execution_count": 7,
     "metadata": {},
     "output_type": "execute_result"
    }
   ],
   "source": [
    "import pandas as pd\n",
    "import plotly as py\n",
    "from plotly.offline import download_plotlyjs, init_notebook_mode, plot, iplot\n",
    "init_notebook_mode(connected=True)\n",
    "import numpy as np\n",
    "import plotly.graph_objs as go\n",
    "\n",
    " \n",
    "df=pd.read_table('2.0_0.4_0.4/clean_forces_mpi.xvg',header=None)\n",
    "\n",
    "df2=pd.read_table('2.0_1.0_1.0/clean_forces_mpi.xvg',header=None)\n",
    "\n",
    "out= df.as_matrix()\n",
    "out2= df2.as_matrix()\n",
    "\n",
    "random_x=np.linspace(0,out.shape[1],out.shape[1])\n",
    "\n",
    "trace0=trace0 = go.Scatter(\n",
    "    x = random_x,\n",
    "    y =out[0,:],\n",
    "    mode = 'lines',\n",
    "    name = 'lines'\n",
    ")\n",
    "trace1 = go.Scatter(\n",
    "    x = random_x,\n",
    "    y = out[1,:],\n",
    "    mode = 'lines',\n",
    "    name = 'lines'\n",
    ")\n",
    "trace2 = go.Scatter(\n",
    "    x = random_x,\n",
    "    y =out[2,:],\n",
    "    mode = 'lines',\n",
    "    name = 'lines'\n",
    ")\n",
    "\n",
    "trace3= go.Scatter(\n",
    "    x = random_x,\n",
    "    y =out2[0,:],\n",
    "    mode = 'lines',\n",
    "    name = 'lines'\n",
    ")\n",
    "trace4 = go.Scatter(\n",
    "    x = random_x,\n",
    "    y = out2[1,:],\n",
    "    mode = 'lines',\n",
    "    name = 'lines'\n",
    ")\n",
    "trace5 = go.Scatter(\n",
    "    x = random_x,\n",
    "    y =out2[2,:],\n",
    "    mode = 'lines',\n",
    "    name = 'lines'\n",
    ")\n",
    "\n",
    "data=[trace0,trace1,trace2,trace3,trace4,trace5]\n",
    "\n",
    " \n",
    "py.offline.plot(data)\n"
   ]
  },
  {
   "cell_type": "code",
   "execution_count": 3,
   "metadata": {},
   "outputs": [
    {
     "data": {
      "text/html": [
       "<script>requirejs.config({paths: { 'plotly': ['https://cdn.plot.ly/plotly-latest.min']},});if(!window.Plotly) {{require(['plotly'],function(plotly) {window.Plotly=plotly;});}}</script>"
      ],
      "text/vnd.plotly.v1+html": [
       "<script>requirejs.config({paths: { 'plotly': ['https://cdn.plot.ly/plotly-latest.min']},});if(!window.Plotly) {{require(['plotly'],function(plotly) {window.Plotly=plotly;});}}</script>"
      ]
     },
     "metadata": {},
     "output_type": "display_data"
    }
   ],
   "source": [
    "import pandas as pd\n",
    "import plotly as py\n",
    "from plotly.offline import download_plotlyjs, init_notebook_mode, plot, iplot\n",
    "init_notebook_mode(connected=True)\n",
    "import numpy as np\n",
    "import plotly.graph_objs as go\n",
    "import xvgstuff\n",
    " \n"
   ]
  },
  {
   "cell_type": "code",
   "execution_count": 4,
   "metadata": {},
   "outputs": [
    {
     "name": "stdout",
     "output_type": "stream",
     "text": [
      "@    xaxis  label \"Time (ps)\"\n",
      "@    xaxis  label \"Time (ps)\"\n",
      "@    xaxis  label \"Time (ps)\"\n",
      "@    xaxis  label \"Time (ps)\"\n",
      "@    xaxis  label \"Time (ps)\"\n",
      "@    xaxis  label \"Time (ps)\"\n",
      "@    xaxis  label \"Time (ps)\"\n",
      "@    xaxis  label \"Time (ps)\"\n",
      "@    xaxis  label \"Time (ps)\"\n",
      "@    xaxis  label \"Time (ps)\"\n",
      "@    xaxis  label \"Time (ps)\"\n",
      "@    xaxis  label \"Time (ps)\"\n",
      "@    xaxis  label \"Time (ps)\"\n",
      "@    xaxis  label \"Time (ps)\"\n",
      "@    xaxis  label \"Time (ps)\"\n",
      "@    xaxis  label \"Time (ps)\"\n",
      "@    xaxis  label \"Time (ps)\"\n",
      "@    xaxis  label \"Time (ps)\"\n",
      "@    xaxis  label \"Time (ps)\"\n",
      "@    xaxis  label \"Time (ps)\"\n"
     ]
    },
    {
     "name": "stderr",
     "output_type": "stream",
     "text": [
      "/home/carlo/programs/anaconda2/lib/python2.7/site-packages/ipykernel_launcher.py:14: SettingWithCopyWarning:\n",
      "\n",
      "\n",
      "A value is trying to be set on a copy of a slice from a DataFrame.\n",
      "Try using .loc[row_indexer,col_indexer] = value instead\n",
      "\n",
      "See the caveats in the documentation: http://pandas.pydata.org/pandas-docs/stable/indexing.html#indexing-view-versus-copy\n",
      "\n",
      "/home/carlo/programs/anaconda2/lib/python2.7/site-packages/ipykernel_launcher.py:15: SettingWithCopyWarning:\n",
      "\n",
      "\n",
      "A value is trying to be set on a copy of a slice from a DataFrame.\n",
      "Try using .loc[row_indexer,col_indexer] = value instead\n",
      "\n",
      "See the caveats in the documentation: http://pandas.pydata.org/pandas-docs/stable/indexing.html#indexing-view-versus-copy\n",
      "\n"
     ]
    },
    {
     "ename": "IOError",
     "evalue": "[Errno 13] Permission denied: 'temp-plot.html'",
     "output_type": "error",
     "traceback": [
      "\u001b[0;31m---------------------------------------------------------------------------\u001b[0m",
      "\u001b[0;31mIOError\u001b[0m                                   Traceback (most recent call last)",
      "\u001b[0;32m<ipython-input-4-d1353ee656df>\u001b[0m in \u001b[0;36m<module>\u001b[0;34m()\u001b[0m\n\u001b[1;32m     17\u001b[0m \u001b[0mdata\u001b[0m \u001b[0;34m=\u001b[0m \u001b[0;34m[\u001b[0m\u001b[0mgo\u001b[0m\u001b[0;34m.\u001b[0m\u001b[0mHistogram\u001b[0m\u001b[0;34m(\u001b[0m\u001b[0my\u001b[0m\u001b[0;34m=\u001b[0m\u001b[0mdfenew\u001b[0m\u001b[0;34m[\u001b[0m\u001b[0;36m0\u001b[0m\u001b[0;34m]\u001b[0m\u001b[0;34m[\u001b[0m\u001b[0;34m'SUM'\u001b[0m\u001b[0;34m]\u001b[0m\u001b[0;34m)\u001b[0m\u001b[0;34m]\u001b[0m\u001b[0;34m\u001b[0m\u001b[0m\n\u001b[1;32m     18\u001b[0m \u001b[0;34m\u001b[0m\u001b[0m\n\u001b[0;32m---> 19\u001b[0;31m \u001b[0mpy\u001b[0m\u001b[0;34m.\u001b[0m\u001b[0moffline\u001b[0m\u001b[0;34m.\u001b[0m\u001b[0mplot\u001b[0m\u001b[0;34m(\u001b[0m\u001b[0mdata\u001b[0m\u001b[0;34m)\u001b[0m\u001b[0;34m\u001b[0m\u001b[0m\n\u001b[0m",
      "\u001b[0;32m/home/carlo/programs/anaconda2/lib/python2.7/site-packages/plotly/offline/offline.pyc\u001b[0m in \u001b[0;36mplot\u001b[0;34m(figure_or_data, show_link, link_text, validate, output_type, include_plotlyjs, filename, auto_open, image, image_filename, image_width, image_height, config)\u001b[0m\n\u001b[1;32m    484\u001b[0m \u001b[0;34m\u001b[0m\u001b[0m\n\u001b[1;32m    485\u001b[0m     \u001b[0;32mif\u001b[0m \u001b[0moutput_type\u001b[0m \u001b[0;34m==\u001b[0m \u001b[0;34m'file'\u001b[0m\u001b[0;34m:\u001b[0m\u001b[0;34m\u001b[0m\u001b[0m\n\u001b[0;32m--> 486\u001b[0;31m         \u001b[0;32mwith\u001b[0m \u001b[0mopen\u001b[0m\u001b[0;34m(\u001b[0m\u001b[0mfilename\u001b[0m\u001b[0;34m,\u001b[0m \u001b[0;34m'w'\u001b[0m\u001b[0;34m)\u001b[0m \u001b[0;32mas\u001b[0m \u001b[0mf\u001b[0m\u001b[0;34m:\u001b[0m\u001b[0;34m\u001b[0m\u001b[0m\n\u001b[0m\u001b[1;32m    487\u001b[0m             \u001b[0;32mif\u001b[0m \u001b[0minclude_plotlyjs\u001b[0m\u001b[0;34m:\u001b[0m\u001b[0;34m\u001b[0m\u001b[0m\n\u001b[1;32m    488\u001b[0m                 plotly_js_script = ''.join([\n",
      "\u001b[0;31mIOError\u001b[0m: [Errno 13] Permission denied: 'temp-plot.html'"
     ]
    }
   ],
   "source": [
    "dfe=xvgstuff.xvg_g_energy('/home/carlo/work/TERPENES_REST+Umbrella/tests/2.0_checkforces_0.002ts/','exchange_energies.xvg','59 60 67 68 0')\n",
    "dfne=xvgstuff.xvg_g_energy('/home/carlo/work/TERPENES_REST+Umbrella/tests/2.0_test_noexchange/','exchange_energies.xvg','53 54 61 62 0')\n",
    "dfne[0]                                                                                                                 \n",
    "for i in range(10):    \n",
    "    dfne[i]=dfne[0].iloc[:3001,:]\n",
    "    \n",
    "dfenew=[]\n",
    "dfnenew=[]\n",
    "for i in range(10):                                                                                                                                                                               \n",
    "    dfenew.append(dfe[i].iloc[::10,:])\n",
    "    dfnenew.append(dfne[i].iloc[::10,:])\n",
    "    \n",
    "for i in range(10):                                                                                                                                                                               \n",
    "    dfenew[i]['SUM']=dfenew[i].iloc[:,1:5].sum(axis=1)\n",
    "    dfnenew[i]['SUM']=dfnenew[i].iloc[:,1:5].sum(axis=1)\n",
    "    \n",
    "data = [go.Histogram(y=dfenew[0]['SUM'])]\n",
    "\n",
    "py.offline.plot(data)"
   ]
  },
  {
   "cell_type": "code",
   "execution_count": null,
   "metadata": {},
   "outputs": [],
   "source": []
  }
 ],
 "metadata": {
  "kernelspec": {
   "display_name": "Python 2",
   "language": "python",
   "name": "python2"
  },
  "language_info": {
   "codemirror_mode": {
    "name": "ipython",
    "version": 2
   },
   "file_extension": ".py",
   "mimetype": "text/x-python",
   "name": "python",
   "nbconvert_exporter": "python",
   "pygments_lexer": "ipython2",
   "version": "2.7.15"
  }
 },
 "nbformat": 4,
 "nbformat_minor": 2
}
