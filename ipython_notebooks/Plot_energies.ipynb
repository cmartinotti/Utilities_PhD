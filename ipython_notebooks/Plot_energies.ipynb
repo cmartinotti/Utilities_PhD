{
 "cells": [
  {
   "cell_type": "code",
   "execution_count": 1,
   "metadata": {},
   "outputs": [
    {
     "data": {
      "text/html": [
       "<script>requirejs.config({paths: { 'plotly': ['https://cdn.plot.ly/plotly-latest.min']},});if(!window.Plotly) {{require(['plotly'],function(plotly) {window.Plotly=plotly;});}}</script>"
      ],
      "text/vnd.plotly.v1+html": [
       "<script>requirejs.config({paths: { 'plotly': ['https://cdn.plot.ly/plotly-latest.min']},});if(!window.Plotly) {{require(['plotly'],function(plotly) {window.Plotly=plotly;});}}</script>"
      ]
     },
     "metadata": {},
     "output_type": "display_data"
    }
   ],
   "source": [
    "import xvgstuff\n",
    "import pandas as pd\n",
    "import plotly as py\n",
    "import numpy as np\n",
    "from plotly.offline import download_plotlyjs, init_notebook_mode, plot, iplot\n",
    "init_notebook_mode(connected=True)\n",
    "import plotly.graph_objs as go"
   ]
  },
  {
   "cell_type": "code",
   "execution_count": 21,
   "metadata": {},
   "outputs": [
    {
     "name": "stdout",
     "output_type": "stream",
     "text": [
      "('/home/carlo/work/TERPENES_REST+Umbrella/tests/2.0_checkforces_0.002ts/2.0_0.2_0.2', '  stored into  ', 'df_02')\n",
      "('/home/carlo/work/TERPENES_REST+Umbrella/tests/2.0_checkforces_0.002ts/2.0_0.3_0.3', '  stored into  ', 'df_03')\n",
      "('/home/carlo/work/TERPENES_REST+Umbrella/tests/2.0_checkforces_0.002ts/2.0_0.37_0.37', '  stored into  ', 'df_037')\n",
      "('/home/carlo/work/TERPENES_REST+Umbrella/tests/2.0_checkforces_0.002ts/2.0_0.4_0.4', '  stored into  ', 'df_04')\n",
      "('/home/carlo/work/TERPENES_REST+Umbrella/tests/2.0_checkforces_0.002ts/2.0_0.5_0.5', '  stored into  ', 'df_05')\n",
      "('/home/carlo/work/TERPENES_REST+Umbrella/tests/2.0_checkforces_0.002ts/2.0_0.6_0.6', '  stored into  ', 'df_06')\n",
      "('/home/carlo/work/TERPENES_REST+Umbrella/tests/2.0_checkforces_0.002ts/2.0_0.7_0.7', '  stored into  ', 'df_07')\n",
      "('/home/carlo/work/TERPENES_REST+Umbrella/tests/2.0_checkforces_0.002ts/2.0_0.8_0.8', '  stored into  ', 'df_08')\n",
      "('/home/carlo/work/TERPENES_REST+Umbrella/tests/2.0_checkforces_0.002ts/2.0_0.9_0.9', '  stored into  ', 'df_09')\n",
      "('/home/carlo/work/TERPENES_REST+Umbrella/tests/2.0_checkforces_0.002ts/2.0_1.0_1.0', '  stored into  ', 'df_10')\n",
      "('/home/carlo/work/TERPENES_REST+Umbrella/tests/2.0_test_noexchange/2.0_0.2_0.2', '  stored into  ', 'df_02')\n",
      "('/home/carlo/work/TERPENES_REST+Umbrella/tests/2.0_test_noexchange/2.0_0.3_0.3', '  stored into  ', 'df_03')\n",
      "('/home/carlo/work/TERPENES_REST+Umbrella/tests/2.0_test_noexchange/2.0_0.37_0.37', '  stored into  ', 'df_037')\n",
      "('/home/carlo/work/TERPENES_REST+Umbrella/tests/2.0_test_noexchange/2.0_0.4_0.4', '  stored into  ', 'df_04')\n",
      "('/home/carlo/work/TERPENES_REST+Umbrella/tests/2.0_test_noexchange/2.0_0.5_0.5', '  stored into  ', 'df_05')\n",
      "('/home/carlo/work/TERPENES_REST+Umbrella/tests/2.0_test_noexchange/2.0_0.6_0.6', '  stored into  ', 'df_06')\n",
      "('/home/carlo/work/TERPENES_REST+Umbrella/tests/2.0_test_noexchange/2.0_0.7_0.7', '  stored into  ', 'df_07')\n",
      "('/home/carlo/work/TERPENES_REST+Umbrella/tests/2.0_test_noexchange/2.0_0.8_0.8', '  stored into  ', 'df_08')\n",
      "('/home/carlo/work/TERPENES_REST+Umbrella/tests/2.0_test_noexchange/2.0_0.9_0.9', '  stored into  ', 'df_09')\n",
      "('/home/carlo/work/TERPENES_REST+Umbrella/tests/2.0_test_noexchange/2.0_1.0_1.0', '  stored into  ', 'df_10')\n"
     ]
    },
    {
     "data": {
      "text/plain": [
       "'2.0_0.2_0.2/exchange_energies.xvg'"
      ]
     },
     "execution_count": 21,
     "metadata": {},
     "output_type": "execute_result"
    }
   ],
   "source": [
    "dfe=xvgstuff.xvg_g_energy('/home/carlo/work/TERPENES_REST+Umbrella/tests/2.0_checkforces_0.002ts/','exchange_energies.xvg','',\"-e 60\")\n",
    "dfne=xvgstuff.xvg_g_energy('/home/carlo/work/TERPENES_REST+Umbrella/tests/2.0_test_noexchange/','exchange_energies.xvg','', \"-e 60\")\n"
   ]
  },
  {
   "cell_type": "code",
   "execution_count": 273,
   "metadata": {},
   "outputs": [
    {
     "name": "stderr",
     "output_type": "stream",
     "text": [
      "/home/carlo/programs/anaconda2/lib/python2.7/site-packages/ipykernel_launcher.py:10: SettingWithCopyWarning:\n",
      "\n",
      "\n",
      "A value is trying to be set on a copy of a slice from a DataFrame.\n",
      "Try using .loc[row_indexer,col_indexer] = value instead\n",
      "\n",
      "See the caveats in the documentation: http://pandas.pydata.org/pandas-docs/stable/indexing.html#indexing-view-versus-copy\n",
      "\n",
      "/home/carlo/programs/anaconda2/lib/python2.7/site-packages/ipykernel_launcher.py:11: SettingWithCopyWarning:\n",
      "\n",
      "\n",
      "A value is trying to be set on a copy of a slice from a DataFrame.\n",
      "Try using .loc[row_indexer,col_indexer] = value instead\n",
      "\n",
      "See the caveats in the documentation: http://pandas.pydata.org/pandas-docs/stable/indexing.html#indexing-view-versus-copy\n",
      "\n"
     ]
    }
   ],
   "source": [
    "dfenew=[]\n",
    "dfnenew=[]\n",
    "for i in range(len(dfe)):                                                                                                                                                                               \n",
    "    dfenew.append(dfe[i].iloc[::10,:])\n",
    "    dfenew[i].name=dfe[i].name\n",
    "    dfnenew.append(dfne[i].iloc[:3001,:])\n",
    "    dfnenew[i].name=dfne[i].name\n",
    "\n",
    "for i in range(len(dfe)):                                                                                                                                                                               \n",
    "    dfenew[i]['SUM']=dfenew[i].iloc[:,1:5].sum(axis=1)/float(dfenew[i].name.split('_')[1])\n",
    "    dfnenew[i]['SUM']=dfnenew[i].iloc[:,1:5].sum(axis=1)/float(dfenew[i].name.split('_')[1])\n",
    "    "
   ]
  },
  {
   "cell_type": "code",
   "execution_count": 267,
   "metadata": {
    "scrolled": true
   },
   "outputs": [
    {
     "data": {
      "text/plain": [
       "0       -620.469318\n",
       "10      -584.433724\n",
       "20      -569.745897\n",
       "30      -651.171808\n",
       "40      -661.790943\n",
       "50      -644.928753\n",
       "60      -622.609707\n",
       "70      -635.043331\n",
       "80      -647.967349\n",
       "90      -658.025909\n",
       "100     -637.930505\n",
       "110     -637.922858\n",
       "120     -668.871454\n",
       "130     -622.032766\n",
       "140     -611.877287\n",
       "150     -605.399983\n",
       "160     -649.982120\n",
       "170     -642.960808\n",
       "180     -673.968200\n",
       "190     -653.529688\n",
       "200     -649.021244\n",
       "210     -643.056396\n",
       "220     -680.833442\n",
       "230     -634.977693\n",
       "240     -626.807708\n",
       "250     -688.394922\n",
       "260     -665.450875\n",
       "270     -651.456082\n",
       "280     -642.151363\n",
       "290     -661.237242\n",
       "            ...    \n",
       "29710   -612.192347\n",
       "29720   -621.416275\n",
       "29730   -620.298252\n",
       "29740   -634.445280\n",
       "29750   -662.632764\n",
       "29760   -597.627367\n",
       "29770   -649.178303\n",
       "29780   -625.988122\n",
       "29790   -633.607876\n",
       "29800   -633.280216\n",
       "29810   -579.059911\n",
       "29820   -642.196927\n",
       "29830   -613.275355\n",
       "29840   -671.349573\n",
       "29850   -635.408073\n",
       "29860   -627.290983\n",
       "29870   -640.630933\n",
       "29880   -637.293541\n",
       "29890   -627.255834\n",
       "29900   -616.810449\n",
       "29910   -637.861064\n",
       "29920   -590.475167\n",
       "29930   -587.324617\n",
       "29940   -648.081530\n",
       "29950   -635.875874\n",
       "29960   -594.279192\n",
       "29970   -631.877031\n",
       "29980   -634.741098\n",
       "29990   -578.097378\n",
       "30000   -559.206894\n",
       "Name: SUM, Length: 3001, dtype: float64"
      ]
     },
     "execution_count": 267,
     "metadata": {},
     "output_type": "execute_result"
    }
   ],
   "source": [
    "dfenew[9][\"SUM\"]"
   ]
  },
  {
   "cell_type": "code",
   "execution_count": 271,
   "metadata": {
    "scrolled": true
   },
   "outputs": [
    {
     "name": "stdout",
     "output_type": "stream",
     "text": [
      "2.0_0.2_0.2/exchange_energies.xvg \t= (3001, 6)\n",
      "2.0_0.3_0.3/exchange_energies.xvg \t= (3001, 6)\n",
      "2.0_0.37_0.37/exchange_energies.xvg \t= (3001, 6)\n",
      "2.0_0.4_0.4/exchange_energies.xvg \t= (3001, 6)\n",
      "2.0_0.5_0.5/exchange_energies.xvg \t= (3001, 6)\n",
      "2.0_0.6_0.6/exchange_energies.xvg \t= (3001, 6)\n",
      "2.0_0.7_0.7/exchange_energies.xvg \t= (3001, 6)\n",
      "2.0_0.8_0.8/exchange_energies.xvg \t= (3001, 6)\n",
      "2.0_0.9_0.9/exchange_energies.xvg \t= (3001, 6)\n",
      "2.0_1.0_1.0/exchange_energies.xvg \t= (3001, 6)\n",
      "-------------------------\n",
      "2.0_0.2_0.2/exchange_energies.xvg \t= (3001, 6)\n",
      "2.0_0.3_0.3/exchange_energies.xvg \t= (3001, 6)\n",
      "2.0_0.37_0.37/exchange_energies.xvg \t= (3001, 6)\n",
      "2.0_0.4_0.4/exchange_energies.xvg \t= (3001, 6)\n",
      "2.0_0.5_0.5/exchange_energies.xvg \t= (3001, 6)\n",
      "2.0_0.6_0.6/exchange_energies.xvg \t= (3001, 6)\n",
      "2.0_0.7_0.7/exchange_energies.xvg \t= (3001, 6)\n",
      "2.0_0.8_0.8/exchange_energies.xvg \t= (3001, 6)\n",
      "2.0_0.9_0.9/exchange_energies.xvg \t= (3001, 6)\n",
      "2.0_1.0_1.0/exchange_energies.xvg \t= (3001, 6)\n"
     ]
    }
   ],
   "source": [
    "for i in range(len(dfenew)):\n",
    "    print dfenew[i].name,\"\\t=\",dfenew[i].shape\n",
    "\n",
    "print(\"-------------------------\")    \n",
    "\n",
    "for i in range(10):\n",
    "    print dfnenew[i].name,\"\\t=\",dfnenew[i].shape"
   ]
  },
  {
   "cell_type": "code",
   "execution_count": 1,
   "metadata": {},
   "outputs": [
    {
     "ename": "NameError",
     "evalue": "name 'dfenew' is not defined",
     "output_type": "error",
     "traceback": [
      "\u001b[0;31m---------------------------------------------------------------------------\u001b[0m",
      "\u001b[0;31mNameError\u001b[0m                                 Traceback (most recent call last)",
      "\u001b[0;32m<ipython-input-1-c2b2fe9b5151>\u001b[0m in \u001b[0;36m<module>\u001b[0;34m()\u001b[0m\n\u001b[1;32m      5\u001b[0m \u001b[0mdata_e\u001b[0m\u001b[0;34m=\u001b[0m\u001b[0;34m[\u001b[0m\u001b[0;34m]\u001b[0m\u001b[0;34m\u001b[0m\u001b[0m\n\u001b[1;32m      6\u001b[0m \u001b[0mdata_ne\u001b[0m\u001b[0;34m=\u001b[0m\u001b[0;34m[\u001b[0m\u001b[0;34m]\u001b[0m\u001b[0;34m\u001b[0m\u001b[0m\n\u001b[0;32m----> 7\u001b[0;31m \u001b[0;32mfor\u001b[0m \u001b[0mi\u001b[0m \u001b[0;32min\u001b[0m \u001b[0mrange\u001b[0m\u001b[0;34m(\u001b[0m\u001b[0mlen\u001b[0m\u001b[0;34m(\u001b[0m\u001b[0mdfenew\u001b[0m\u001b[0;34m)\u001b[0m\u001b[0;34m)\u001b[0m\u001b[0;34m:\u001b[0m\u001b[0;34m\u001b[0m\u001b[0m\n\u001b[0m\u001b[1;32m      8\u001b[0m     \u001b[0mdict_e\u001b[0m\u001b[0;34m[\u001b[0m\u001b[0;34m\"trace_e_\"\u001b[0m\u001b[0;34m+\u001b[0m\u001b[0mstr\u001b[0m\u001b[0;34m(\u001b[0m\u001b[0mi\u001b[0m\u001b[0;34m)\u001b[0m\u001b[0;34m]\u001b[0m\u001b[0;34m=\u001b[0m \u001b[0mgo\u001b[0m\u001b[0;34m.\u001b[0m\u001b[0mHistogram\u001b[0m\u001b[0;34m(\u001b[0m\u001b[0mx\u001b[0m\u001b[0;34m=\u001b[0m\u001b[0mdfenew\u001b[0m\u001b[0;34m[\u001b[0m\u001b[0mi\u001b[0m\u001b[0;34m]\u001b[0m\u001b[0;34m[\u001b[0m\u001b[0;34m'SUM'\u001b[0m\u001b[0;34m]\u001b[0m\u001b[0;34m)\u001b[0m\u001b[0;34m\u001b[0m\u001b[0m\n\u001b[1;32m      9\u001b[0m     \u001b[0mdict_ne\u001b[0m\u001b[0;34m[\u001b[0m\u001b[0;34m\"trace_ne_\"\u001b[0m\u001b[0;34m+\u001b[0m\u001b[0mstr\u001b[0m\u001b[0;34m(\u001b[0m\u001b[0mi\u001b[0m\u001b[0;34m)\u001b[0m\u001b[0;34m]\u001b[0m\u001b[0;34m=\u001b[0m \u001b[0mgo\u001b[0m\u001b[0;34m.\u001b[0m\u001b[0mHistogram\u001b[0m\u001b[0;34m(\u001b[0m\u001b[0mx\u001b[0m\u001b[0;34m=\u001b[0m\u001b[0mdfnenew\u001b[0m\u001b[0;34m[\u001b[0m\u001b[0mi\u001b[0m\u001b[0;34m]\u001b[0m\u001b[0;34m[\u001b[0m\u001b[0;34m'SUM'\u001b[0m\u001b[0;34m]\u001b[0m\u001b[0;34m)\u001b[0m\u001b[0;34m\u001b[0m\u001b[0m\n",
      "\u001b[0;31mNameError\u001b[0m: name 'dfenew' is not defined"
     ]
    }
   ],
   "source": [
    "#data = [go.Histogram(x=dfnenew[0]['SUM'])]\n",
    "#py.offline.plot(data)\n",
    "dict_e={}\n",
    "dict_ne={}\n",
    "data_e=[]\n",
    "data_ne=[]\n",
    "for i in range(len(dfenew)):\n",
    "    dict_e[\"trace_e_\"+str(i)]= go.Histogram(x=dfenew[i]['SUM'])\n",
    "    dict_ne[\"trace_ne_\"+str(i)]= go.Histogram(x=dfnenew[i]['SUM'])\n",
    "    data_e.append(dict_e[\"trace_e_\"+str(i)])\n",
    "    data_ne.append(dict_ne[\"trace_ne_\"+str(i)])\n",
    "\n",
    "   \n",
    "py.offline.plot(data_e)\n",
    "py.offline.plot(data_ne)\n"
   ]
  },
  {
   "cell_type": "code",
   "execution_count": 249,
   "metadata": {
    "scrolled": true
   },
   "outputs": [
    {
     "data": {
      "text/plain": [
       "'file:///home/carlo/work/TERPENES_REST+Umbrella/tests/2.0_test_noexchange/temp-plot.html'"
      ]
     },
     "execution_count": 249,
     "metadata": {},
     "output_type": "execute_result"
    }
   ],
   "source": [
    "#dfnenew[9][\"SUM\"].astype(int).diff(dfenew[9][\"SUM\"].astype(int))\n",
    "a=dfnenew[9][\"SUM\"].astype(float)\n",
    "b=dfenew[9][\"SUM\"].astype(float)\n",
    "\n",
    "a=a.reset_index().drop(columns='index')\n",
    "b=b.reset_index().drop(columns='index')\n",
    "%matplotlib inline\n",
    "\n",
    "tracea=go.Histogram(x=a['SUM'])\n",
    "traceb=go.Histogram(x=b['SUM'])\n",
    "data=[tracea,traceb]\n",
    "py.offline.plot(data)"
   ]
  },
  {
   "cell_type": "code",
   "execution_count": null,
   "metadata": {},
   "outputs": [],
   "source": []
  }
 ],
 "metadata": {
  "kernelspec": {
   "display_name": "Python 2",
   "language": "python",
   "name": "python2"
  },
  "language_info": {
   "codemirror_mode": {
    "name": "ipython",
    "version": 2
   },
   "file_extension": ".py",
   "mimetype": "text/x-python",
   "name": "python",
   "nbconvert_exporter": "python",
   "pygments_lexer": "ipython2",
   "version": "2.7.15"
  }
 },
 "nbformat": 4,
 "nbformat_minor": 2
}
