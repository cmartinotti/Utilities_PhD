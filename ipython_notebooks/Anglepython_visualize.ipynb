{
 "cells": [
  {
   "cell_type": "code",
   "execution_count": 78,
   "metadata": {},
   "outputs": [
    {
     "data": {
      "text/html": [
       "<script>requirejs.config({paths: { 'plotly': ['https://cdn.plot.ly/plotly-latest.min']},});if(!window.Plotly) {{require(['plotly'],function(plotly) {window.Plotly=plotly;});}}</script>"
      ],
      "text/vnd.plotly.v1+html": [
       "<script>requirejs.config({paths: { 'plotly': ['https://cdn.plot.ly/plotly-latest.min']},});if(!window.Plotly) {{require(['plotly'],function(plotly) {window.Plotly=plotly;});}}</script>"
      ]
     },
     "metadata": {},
     "output_type": "display_data"
    }
   ],
   "source": [
    "import pandas as pd\n",
    "import numpy as np\n",
    "import plotly as py\n",
    "from plotly.offline import download_plotlyjs, init_notebook_mode, plot, iplot\n",
    "init_notebook_mode(connected=True)\n",
    "import plotly.graph_objs as go\n",
    "\n",
    "outputname=\"provaaa\""
   ]
  },
  {
   "cell_type": "code",
   "execution_count": 232,
   "metadata": {},
   "outputs": [
    {
     "name": "stdout",
     "output_type": "stream",
     "text": [
      "/mnt/R_drive/Biomolecular_Model-MANCER-HS00092/Characterization_of_molecular_interactions_of_venom_peptides_with_membranes/gromacs_REST_test/DPAC/restrained_mixed_tempering/2.0_0.2_0.4\n"
     ]
    }
   ],
   "source": [
    "cd /mnt/R_drive/Biomolecular_Model-MANCER-HS00092/Characterization_of_molecular_interactions_of_venom_peptides_with_membranes/gromacs_REST_test/DPAC/restrained_mixed_tempering/2.0_0.2_0.4/"
   ]
  },
  {
   "cell_type": "code",
   "execution_count": 236,
   "metadata": {},
   "outputs": [
    {
     "data": {
      "text/html": [
       "<div>\n",
       "<style scoped>\n",
       "    .dataframe tbody tr th:only-of-type {\n",
       "        vertical-align: middle;\n",
       "    }\n",
       "\n",
       "    .dataframe tbody tr th {\n",
       "        vertical-align: top;\n",
       "    }\n",
       "\n",
       "    .dataframe thead th {\n",
       "        text-align: right;\n",
       "    }\n",
       "</style>\n",
       "<table border=\"1\" class=\"dataframe\">\n",
       "  <thead>\n",
       "    <tr style=\"text-align: right;\">\n",
       "      <th></th>\n",
       "      <th>time</th>\n",
       "      <th>angle1</th>\n",
       "      <th>angle2</th>\n",
       "    </tr>\n",
       "  </thead>\n",
       "  <tbody>\n",
       "    <tr>\n",
       "      <th>0</th>\n",
       "      <td>0</td>\n",
       "      <td>30.959655</td>\n",
       "      <td>120.910984</td>\n",
       "    </tr>\n",
       "    <tr>\n",
       "      <th>1</th>\n",
       "      <td>10</td>\n",
       "      <td>26.305084</td>\n",
       "      <td>103.372076</td>\n",
       "    </tr>\n",
       "    <tr>\n",
       "      <th>2</th>\n",
       "      <td>20</td>\n",
       "      <td>42.306369</td>\n",
       "      <td>119.177034</td>\n",
       "    </tr>\n",
       "    <tr>\n",
       "      <th>3</th>\n",
       "      <td>30</td>\n",
       "      <td>23.277612</td>\n",
       "      <td>85.486217</td>\n",
       "    </tr>\n",
       "    <tr>\n",
       "      <th>4</th>\n",
       "      <td>40</td>\n",
       "      <td>27.818727</td>\n",
       "      <td>72.769468</td>\n",
       "    </tr>\n",
       "  </tbody>\n",
       "</table>\n",
       "</div>"
      ],
      "text/plain": [
       "   time     angle1      angle2\n",
       "0     0  30.959655  120.910984\n",
       "1    10  26.305084  103.372076\n",
       "2    20  42.306369  119.177034\n",
       "3    30  23.277612   85.486217\n",
       "4    40  27.818727   72.769468"
      ]
     },
     "execution_count": 236,
     "metadata": {},
     "output_type": "execute_result"
    }
   ],
   "source": [
    "df=pd.read_table('angles_new_2.0_0.4.dat.dat',skiprows=1 ,names=[\"time\",\"angle1\",\"angle2\"])\n",
    "df.head()"
   ]
  },
  {
   "cell_type": "code",
   "execution_count": 237,
   "metadata": {},
   "outputs": [
    {
     "name": "stdout",
     "output_type": "stream",
     "text": [
      "0.00044997750112494374\n",
      "0.00010387565350814162\n",
      "0.0\n",
      "0.00014999250037498125\n"
     ]
    },
    {
     "data": {
      "text/plain": [
       "0.0009499525023748813"
      ]
     },
     "execution_count": 237,
     "metadata": {},
     "output_type": "execute_result"
    }
   ],
   "source": [
    "prob_matrix=np.zeros((181,181))\n",
    "\n",
    "for index, line in df.iterrows():\n",
    "        prob_matrix[int(round(line[\"angle1\"])),int(round(line[\"angle2\"]))]+=1\n",
    "\n",
    "prob_matrix=prob_matrix/float(df.shape[0])\n",
    "for i in range(181):\n",
    "    for j in range(181):\n",
    "        if i == 0:\n",
    "            i_ndex=0.25\n",
    "        if j == 0:\n",
    "            j_ndex=0.25\n",
    "        if i == 180:\n",
    "            i_ndex=179.75\n",
    "        if j == 180:\n",
    "            j_ndex=179.75\n",
    "        else:\n",
    "            i_ndex=i\n",
    "            j_ndex=j    \n",
    "        \n",
    "        radicand=(1-(np.cos(np.deg2rad(i_ndex))**2)-(np.cos(np.deg2rad(j_ndex))**2))\n",
    "        if (abs(np.deg2rad(i) - np.deg2rad(90)) + abs(np.deg2rad(j)-np.deg2rad(90))) <= np.deg2rad(90):\n",
    "            if radicand < 0:\n",
    "                radicand=0\n",
    "            if (np.sin(np.deg2rad(i_ndex))*np.sin(np.deg2rad(j_ndex))) != 0:\n",
    "                prob_matrix[i,j]= prob_matrix[i,j] * np.sqrt(radicand)/(np.sin(np.deg2rad(i_ndex))*np.sin(np.deg2rad(j_ndex)))\n",
    "i_ndex=136\n",
    "j_ndex=46\n",
    "#print((1-(np.cos(np.deg2rad(i_ndex))**2)-(np.cos(np.deg2rad(j_ndex))**2)))                \n",
    "print(prob_matrix[136,46])\n",
    "print(prob_matrix[135,46])\n",
    "print(prob_matrix[137,46])\n",
    "\n",
    "print(prob_matrix[46,136])\n",
    "prob_matrix.max()"
   ]
  },
  {
   "cell_type": "code",
   "execution_count": 238,
   "metadata": {},
   "outputs": [
    {
     "name": "stderr",
     "output_type": "stream",
     "text": [
      "/home/carlo/programs/anaconda2/lib/python2.7/site-packages/ipykernel_launcher.py:4: FutureWarning:\n",
      "\n",
      "Method .as_matrix will be removed in a future version. Use .values instead.\n",
      "\n"
     ]
    },
    {
     "data": {
      "text/plain": [
       "'file:///mnt/R_drive/Biomolecular_Model-MANCER-HS00092/Characterization_of_molecular_interactions_of_venom_peptides_with_membranes/gromacs_REST_test/DPAC/restrained_mixed_tempering/2.0_0.2_0.4/elevations-3d-surface.html'"
      ]
     },
     "execution_count": 238,
     "metadata": {},
     "output_type": "execute_result"
    }
   ],
   "source": [
    "dfmat=pd.DataFrame(prob_matrix)\n",
    "data = [\n",
    "    go.Surface(\n",
    "        z=dfmat.as_matrix()\n",
    "    )\n",
    "]\n",
    "layout = go.Layout(\n",
    "    title='Prob_map'\n",
    ")\n",
    "fig = go.Figure(data=data, layout=layout)\n",
    "py.offline.plot(fig, filename='elevations-3d-surface')"
   ]
  },
  {
   "cell_type": "code",
   "execution_count": 151,
   "metadata": {},
   "outputs": [
    {
     "data": {
      "text/plain": [
       "9"
      ]
     },
     "execution_count": 151,
     "metadata": {},
     "output_type": "execute_result"
    }
   ],
   "source": [
    "3**2"
   ]
  },
  {
   "cell_type": "code",
   "execution_count": null,
   "metadata": {},
   "outputs": [],
   "source": []
  }
 ],
 "metadata": {
  "kernelspec": {
   "display_name": "Python 2",
   "language": "python",
   "name": "python2"
  },
  "language_info": {
   "codemirror_mode": {
    "name": "ipython",
    "version": 2
   },
   "file_extension": ".py",
   "mimetype": "text/x-python",
   "name": "python",
   "nbconvert_exporter": "python",
   "pygments_lexer": "ipython2",
   "version": "2.7.15"
  }
 },
 "nbformat": 4,
 "nbformat_minor": 2
}
