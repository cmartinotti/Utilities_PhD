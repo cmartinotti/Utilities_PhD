{
 "cells": [
  {
   "cell_type": "code",
   "execution_count": 98,
   "metadata": {},
   "outputs": [
    {
     "data": {
      "text/html": [
       "<script>requirejs.config({paths: { 'plotly': ['https://cdn.plot.ly/plotly-latest.min']},});if(!window.Plotly) {{require(['plotly'],function(plotly) {window.Plotly=plotly;});}}</script>"
      ],
      "text/vnd.plotly.v1+html": [
       "<script>requirejs.config({paths: { 'plotly': ['https://cdn.plot.ly/plotly-latest.min']},});if(!window.Plotly) {{require(['plotly'],function(plotly) {window.Plotly=plotly;});}}</script>"
      ]
     },
     "metadata": {},
     "output_type": "display_data"
    }
   ],
   "source": [
    "import xvgstuff as xs\n",
    "import numpy as np\n",
    "import pandas as pd\n",
    "import re\n",
    "import sys\n",
    "import os\n",
    "import subprocess\n",
    "import plotly as py\n",
    "from plotly.offline import download_plotlyjs, init_notebook_mode, plot, iplot\n",
    "init_notebook_mode(connected=True)\n",
    "import plotly.graph_objs as go"
   ]
  },
  {
   "cell_type": "code",
   "execution_count": 124,
   "metadata": {},
   "outputs": [],
   "source": [
    "ls=subprocess.Popen([\"ls -d *\"],stdout=subprocess.PIPE,shell=True)\n",
    "end=ls.stdout\n",
    "folders=[]\n",
    "for line in end :\n",
    "    folders.append(line.replace('\\n',\"\"))\n",
    "end.close()\n",
    "# folders.pop(-1)\n"
   ]
  },
  {
   "cell_type": "code",
   "execution_count": 125,
   "metadata": {},
   "outputs": [
    {
     "data": {
      "text/plain": [
       "['pf_pmf_conv_dist_2.2_definitive_50ns.xvg',\n",
       " 'pf_pmf_conv_dist_2.4_definitive_50ns.xvg',\n",
       " 'pf_pmf_conv_dist_2.6_definitive_50ns.xvg',\n",
       " 'pf_pmf_conv_dist_2.8_definitive_50ns.xvg',\n",
       " 'pf_pmf_conv_dist_3.0_definitive_50ns.xvg',\n",
       " 'pf_pmf_conv_dist_3.2_definitive_50ns.xvg',\n",
       " 'pf_pmf_conv_dist_3.4_definitive_50ns.xvg',\n",
       " 'pf_pmf_conv_dist_3.6_definitive_50ns.xvg',\n",
       " 'pf_pmf_conv_dist_3.8_definitive_50ns.xvg',\n",
       " 'pf_pmf_conv_dist_4.0_definitive_50ns.xvg',\n",
       " 'pf_pmf_conv_dist_4.2_definitive_50ns.xvg',\n",
       " 'pf_pmf_conv_dist_4.4_definitive_50ns.xvg',\n",
       " 'pf_pmf_conv_dist_4.6_definitive_50ns.xvg',\n",
       " 'pf_pmf_conv_dist_4.8_definitive_50ns.xvg',\n",
       " 'pf_pmf_conv_dist_5.0_definitive_50ns.xvg',\n",
       " 'pf_pmf_conv_dist_5.2_definitive_50ns.xvg',\n",
       " 'pf_pmf_conv_dist_5.4_definitive_50ns.xvg',\n",
       " 'pf_pmf_conv_dist_5.6_definitive_50ns.xvg',\n",
       " 'pf_pmf_conv_dist_5.8_definitive_50ns.xvg',\n",
       " 'pf_pmf_conv_dist_6.0_definitive_50ns.xvg',\n",
       " 'pf_pmf_conv_dist_6.2_definitive_50ns.xvg',\n",
       " 'pf_pmf_conv_dist_6.4_definitive_50ns.xvg',\n",
       " 'pf_pmf_conv_dist_6.6_definitive_50ns.xvg']"
      ]
     },
     "execution_count": 125,
     "metadata": {},
     "output_type": "execute_result"
    }
   ],
   "source": [
    "folders"
   ]
  },
  {
   "cell_type": "code",
   "execution_count": 126,
   "metadata": {},
   "outputs": [
    {
     "name": "stdout",
     "output_type": "stream",
     "text": [
      "pf_pmf_conv_dist_2.2_definitive_50ns.xvg\n",
      "pf_pmf_conv_dist_2.4_definitive_50ns.xvg\n",
      "pf_pmf_conv_dist_2.6_definitive_50ns.xvg\n",
      "pf_pmf_conv_dist_2.8_definitive_50ns.xvg\n",
      "pf_pmf_conv_dist_3.0_definitive_50ns.xvg\n",
      "pf_pmf_conv_dist_3.2_definitive_50ns.xvg\n",
      "pf_pmf_conv_dist_3.4_definitive_50ns.xvg\n",
      "pf_pmf_conv_dist_3.6_definitive_50ns.xvg\n",
      "pf_pmf_conv_dist_3.8_definitive_50ns.xvg\n",
      "pf_pmf_conv_dist_4.0_definitive_50ns.xvg\n",
      "pf_pmf_conv_dist_4.2_definitive_50ns.xvg\n",
      "pf_pmf_conv_dist_4.4_definitive_50ns.xvg\n",
      "pf_pmf_conv_dist_4.6_definitive_50ns.xvg\n"
     ]
    }
   ],
   "source": [
    "dfarray_conv=[]\n",
    "for i in range(0,13,1):\n",
    "    print(folders[i])\n",
    "    dfarray_conv.append(xs.xvgtotable_notitles(folders[i]))"
   ]
  },
  {
   "cell_type": "code",
   "execution_count": 123,
   "metadata": {},
   "outputs": [
    {
     "name": "stdout",
     "output_type": "stream",
     "text": [
      "total 228244\r\n",
      "-rwxr-xr-x 1 carlo 10441814 Oct 18 15:09 \u001b[0m\u001b[01;32mpf_pmf_conv_dist_2.2_definitive_50ns.xvg\u001b[0m*\r\n",
      "-rwxr-xr-x 1 carlo 10271002 Oct 18 15:09 \u001b[01;32mpf_pmf_conv_dist_2.4_definitive_50ns.xvg\u001b[0m*\r\n",
      "-rwxr-xr-x 1 carlo 10214703 Oct 18 15:09 \u001b[01;32mpf_pmf_conv_dist_2.6_definitive_50ns.xvg\u001b[0m*\r\n",
      "-rwxr-xr-x 1 carlo  9946754 Oct 18 15:09 \u001b[01;32mpf_pmf_conv_dist_2.8_definitive_50ns.xvg\u001b[0m*\r\n",
      "-rwxr-xr-x 1 carlo 10094309 Oct 18 15:09 \u001b[01;32mpf_pmf_conv_dist_3.0_definitive_50ns.xvg\u001b[0m*\r\n",
      "-rwxr-xr-x 1 carlo 10046888 Oct 18 15:09 \u001b[01;32mpf_pmf_conv_dist_3.2_definitive_50ns.xvg\u001b[0m*\r\n",
      "-rwxr-xr-x 1 carlo 10000138 Oct 18 15:09 \u001b[01;32mpf_pmf_conv_dist_3.4_definitive_50ns.xvg\u001b[0m*\r\n",
      "-rwxr-xr-x 1 carlo 10019841 Oct 18 15:09 \u001b[01;32mpf_pmf_conv_dist_3.6_definitive_50ns.xvg\u001b[0m*\r\n",
      "-rwxr-xr-x 1 carlo 10025356 Oct 18 15:09 \u001b[01;32mpf_pmf_conv_dist_3.8_definitive_50ns.xvg\u001b[0m*\r\n",
      "-rwxr-xr-x 1 carlo 10181975 Oct 18 15:09 \u001b[01;32mpf_pmf_conv_dist_4.0_definitive_50ns.xvg\u001b[0m*\r\n",
      "-rwxr-xr-x 1 carlo 10073513 Oct 18 15:09 \u001b[01;32mpf_pmf_conv_dist_4.2_definitive_50ns.xvg\u001b[0m*\r\n",
      "-rwxr-xr-x 1 carlo 10219450 Oct 18 15:09 \u001b[01;32mpf_pmf_conv_dist_4.4_definitive_50ns.xvg\u001b[0m*\r\n",
      "-rwxr-xr-x 1 carlo 10219426 Oct 18 15:09 \u001b[01;32mpf_pmf_conv_dist_4.6_definitive_50ns.xvg\u001b[0m*\r\n",
      "-rwxr-xr-x 1 carlo 10209406 Oct 18 15:09 \u001b[01;32mpf_pmf_conv_dist_4.8_definitive_50ns.xvg\u001b[0m*\r\n",
      "-rwxr-xr-x 1 carlo 10189101 Oct 18 15:09 \u001b[01;32mpf_pmf_conv_dist_5.0_definitive_50ns.xvg\u001b[0m*\r\n",
      "-rwxr-xr-x 1 carlo 10172884 Oct 18 15:09 \u001b[01;32mpf_pmf_conv_dist_5.2_definitive_50ns.xvg\u001b[0m*\r\n",
      "-rwxr-xr-x 1 carlo 10173012 Oct 18 15:09 \u001b[01;32mpf_pmf_conv_dist_5.4_definitive_50ns.xvg\u001b[0m*\r\n",
      "-rwxr-xr-x 1 carlo 10188478 Oct 18 15:09 \u001b[01;32mpf_pmf_conv_dist_5.6_definitive_50ns.xvg\u001b[0m*\r\n",
      "-rwxr-xr-x 1 carlo 10190128 Oct 18 15:09 \u001b[01;32mpf_pmf_conv_dist_5.8_definitive_50ns.xvg\u001b[0m*\r\n",
      "-rwxr-xr-x 1 carlo 10193959 Oct 18 15:09 \u001b[01;32mpf_pmf_conv_dist_6.0_definitive_50ns.xvg\u001b[0m*\r\n",
      "-rwxr-xr-x 1 carlo 10180146 Oct 18 15:09 \u001b[01;32mpf_pmf_conv_dist_6.2_definitive_50ns.xvg\u001b[0m*\r\n",
      "-rwxr-xr-x 1 carlo 10212855 Oct 18 15:09 \u001b[01;32mpf_pmf_conv_dist_6.4_definitive_50ns.xvg\u001b[0m*\r\n",
      "-rwxr-xr-x 1 carlo 10215773 Oct 18 15:09 \u001b[01;32mpf_pmf_conv_dist_6.6_definitive_50ns.xvg\u001b[0m*\r\n"
     ]
    }
   ],
   "source": [
    "dfarray_0_05=[]\n",
    "for i in range(0,13,1):\n",
    "    print(folders[i])\n",
    "    dfarray_0_05.append(xs.xvgtotable_notitles(folders[i]))"
   ]
  },
  {
   "cell_type": "code",
   "execution_count": 74,
   "metadata": {},
   "outputs": [
    {
     "name": "stdout",
     "output_type": "stream",
     "text": [
      "pf_gm_popc_gromos_replex_0.05_rep1.0_dist_2.2_combined.xvg\n",
      "pf_gm_popc_gromos_replex_0.05_rep1.0_dist_2.4_combined.xvg\n",
      "pf_gm_popc_gromos_replex_0.05_rep1.0_dist_2.6_combined.xvg\n",
      "pf_gm_popc_gromos_replex_0.05_rep1.0_dist_2.8_combined.xvg\n",
      "pf_gm_popc_gromos_replex_0.05_rep1.0_dist_3.0_combined.xvg\n",
      "pf_gm_popc_gromos_replex_0.05_rep1.0_dist_3.2_combined.xvg\n",
      "pf_gm_popc_gromos_replex_0.05_rep1.0_dist_3.4_combined.xvg\n",
      "pf_gm_popc_gromos_replex_0.05_rep1.0_dist_3.6_combined.xvg\n",
      "pf_gm_popc_gromos_replex_0.05_rep1.0_dist_3.8_combined.xvg\n",
      "pf_gm_popc_gromos_replex_0.05_rep1.0_dist_4.0_combined.xvg\n",
      "pf_gm_popc_gromos_replex_0.05_rep1.0_dist_4.2_combined.xvg\n",
      "pf_gm_popc_gromos_replex_0.05_rep1.0_dist_4.4_combined.xvg\n",
      "pf_gm_popc_gromos_replex_0.05_rep1.0_dist_4.6_combined.xvg\n"
     ]
    }
   ],
   "source": [
    "dfarray_1=[]\n",
    "for i in range(0+13*10,13+13*10,1):\n",
    "    print(folders[i])\n",
    "    dfarray_1.append(xs.xvgtotable_notitles(folders[i]))"
   ]
  },
  {
   "cell_type": "code",
   "execution_count": 68,
   "metadata": {},
   "outputs": [
    {
     "name": "stdout",
     "output_type": "stream",
     "text": [
      "pf_gm_popc_gromos_replex_0.05_rep0.45_dist_2.2_combined.xvg\n",
      "pf_gm_popc_gromos_replex_0.05_rep0.45_dist_2.4_combined.xvg\n",
      "pf_gm_popc_gromos_replex_0.05_rep0.45_dist_2.6_combined.xvg\n",
      "pf_gm_popc_gromos_replex_0.05_rep0.45_dist_2.8_combined.xvg\n",
      "pf_gm_popc_gromos_replex_0.05_rep0.45_dist_3.0_combined.xvg\n",
      "pf_gm_popc_gromos_replex_0.05_rep0.45_dist_3.2_combined.xvg\n",
      "pf_gm_popc_gromos_replex_0.05_rep0.45_dist_3.4_combined.xvg\n",
      "pf_gm_popc_gromos_replex_0.05_rep0.45_dist_3.6_combined.xvg\n",
      "pf_gm_popc_gromos_replex_0.05_rep0.45_dist_3.8_combined.xvg\n",
      "pf_gm_popc_gromos_replex_0.05_rep0.45_dist_4.0_combined.xvg\n",
      "pf_gm_popc_gromos_replex_0.05_rep0.45_dist_4.2_combined.xvg\n",
      "pf_gm_popc_gromos_replex_0.05_rep0.45_dist_4.4_combined.xvg\n",
      "pf_gm_popc_gromos_replex_0.05_rep0.45_dist_4.6_combined.xvg\n"
     ]
    }
   ],
   "source": [
    "dfarray_0_45=[]\n",
    "for i in range(0+13*6,13+13*6,1):\n",
    "    print(folders[i])\n",
    "    dfarray_0_45.append(xs.xvgtotable_notitles(folders[i]))"
   ]
  },
  {
   "cell_type": "code",
   "execution_count": 83,
   "metadata": {},
   "outputs": [
    {
     "name": "stdout",
     "output_type": "stream",
     "text": [
      "FORCES AT 2.2 FOR 0.05\n",
      "                   0              1\n",
      "count  500000.000000  500000.000000\n",
      "mean    24999.950000      53.964698\n",
      "std     14433.771163      50.056441\n",
      "min         0.000000    -236.358000\n",
      "25%     12499.975000      30.210325\n",
      "50%     24999.950000      58.133150\n",
      "75%     37499.925000      85.279900\n",
      "max     49999.900000     215.393000\n",
      "FORCES AT 2.2 FOR 0.45\n",
      "                   0              1\n",
      "count  500000.000000  500000.000000\n",
      "mean    24999.950000     -55.761988\n",
      "std     14433.771163      69.770774\n",
      "min         0.000000    -278.034000\n",
      "25%     12499.975000    -113.251000\n",
      "50%     24999.950000     -66.057600\n",
      "75%     37499.925000       6.343377\n",
      "max     49999.900000     140.200000\n",
      "FORCES AT 2.2 FOR 0.15\n",
      "                   0              1\n",
      "count  500000.000000  500000.000000\n",
      "mean    24999.950000     -77.047576\n",
      "std     14433.771163      39.106668\n",
      "min         0.000000    -246.847000\n",
      "25%     12499.975000    -102.383000\n",
      "50%     24999.950000     -76.578350\n",
      "75%     37499.925000     -52.973575\n",
      "max     49999.900000      99.685500\n"
     ]
    }
   ],
   "source": [
    "# 0    1    2    3    4    5    6    7    8    9    10    11    12\n",
    "# 2.2  2.4  2.6  2.8  3.0  3.2  3.4  3.6  3.8  4.0   4.2   4.4   4.6\n",
    "\n",
    "#here are the distribution of the forces at 2.2 (on the surface)\n",
    "print('FORCES AT 2.2 FOR 0.05')\n",
    "print(dfarray_0_05[0].describe())\n",
    "print('FORCES AT 2.2 FOR 0.45')\n",
    "print(dfarray_0_45[0].describe())\n",
    "print('FORCES AT 2.2 FOR 1')\n",
    "print(dfarray_1[0].describe())\n",
    "print('FORCES AT 2.2 FOR CONV')\n",
    "print(dfarray_conv[0].describe())\n",
    "\n"
   ]
  },
  {
   "cell_type": "code",
   "execution_count": 87,
   "metadata": {},
   "outputs": [
    {
     "name": "stdout",
     "output_type": "stream",
     "text": [
      "FORCES AT 3.2 FOR 0.05\n",
      "                   0              1\n",
      "count  500000.000000  500000.000000\n",
      "mean    24999.950000     -35.478023\n",
      "std     14433.771163      36.245537\n",
      "min         0.000000    -195.123000\n",
      "25%     12499.975000     -59.961225\n",
      "50%     24999.950000     -36.125400\n",
      "75%     37499.925000     -11.680400\n",
      "max     49999.900000     208.438000\n",
      "FORCES AT 3.2 FOR 0.45\n",
      "                   0              1\n",
      "count  500000.000000  500000.000000\n",
      "mean    24999.950000     -34.247098\n",
      "std     14433.771163      37.346776\n",
      "min         0.000000    -210.195000\n",
      "25%     12499.975000     -59.102525\n",
      "50%     24999.950000     -34.730650\n",
      "75%     37499.925000      -9.865417\n",
      "max     49999.900000     216.577000\n",
      "FORCES AT 3.2 FOR 0.15\n",
      "                   0              1\n",
      "count  500000.000000  500000.000000\n",
      "mean    24999.950000     -30.982571\n",
      "std     14433.771163      39.470371\n",
      "min         0.000000    -186.164000\n",
      "25%     12499.975000     -57.314550\n",
      "50%     24999.950000     -30.271450\n",
      "75%     37499.925000      -4.601530\n",
      "max     49999.900000     236.010000\n"
     ]
    }
   ],
   "source": [
    "# 0    1    2    3    4    5    6    7    8    9    10    11    12\n",
    "# 2.2  2.4  2.6  2.8  3.0  3.2  3.4  3.6  3.8  4.0  4.2   4.4   4.6\n",
    "\n",
    "#here are the dist of forces at 3.2 (far from surface)\n",
    "print('FORCES AT 3.2 FOR 0.05')\n",
    "print(dfarray_0_05[5].describe())\n",
    "print('FORCES AT 3.2 FOR 0.45')\n",
    "print(dfarray_0_45[5].describe())\n",
    "print('FORCES AT 3.2 FOR 0.15')\n",
    "print(dfarray_1[5].describe())"
   ]
  },
  {
   "cell_type": "code",
   "execution_count": 86,
   "metadata": {},
   "outputs": [
    {
     "name": "stdout",
     "output_type": "stream",
     "text": [
      "FORCES AT 4.0 FOR 0.05\n",
      "                   0              1\n",
      "count  500000.000000  500000.000000\n",
      "mean    24999.950000     -11.520680\n",
      "std     14433.771163      36.563339\n",
      "min         0.000000    -165.807000\n",
      "25%     12499.975000     -36.409750\n",
      "50%     24999.950000     -11.865550\n",
      "75%     37499.925000      13.012150\n",
      "max     49999.900000     357.199000\n",
      "FORCES AT 4.0 FOR 0.45\n",
      "                   0              1\n",
      "count  500000.000000  500000.000000\n",
      "mean    24999.950000      -7.646089\n",
      "std     14433.771163      37.410790\n",
      "min         0.000000    -205.493000\n",
      "25%     12499.975000     -32.719825\n",
      "50%     24999.950000      -7.883815\n",
      "75%     37499.925000      17.268875\n",
      "max     49999.900000     357.588000\n",
      "FORCES AT 4.0 FOR 0.15\n",
      "                   0              1\n",
      "count  500000.000000  500000.000000\n",
      "mean    24999.950000      -1.587086\n",
      "std     14433.771163      40.385172\n",
      "min         0.000000    -168.392000\n",
      "25%     12499.975000     -29.078425\n",
      "50%     24999.950000      -2.213370\n",
      "75%     37499.925000      25.298475\n",
      "max     49999.900000     357.872000\n"
     ]
    }
   ],
   "source": [
    "#here are the dist of forces at 4.0 (far from surface)\n",
    "print('FORCES AT 4.0 FOR 0.05')\n",
    "print(dfarray_0_05[9].describe())\n",
    "print('FORCES AT 4.0 FOR 0.45')\n",
    "print(dfarray_0_45[9].describe())\n",
    "print('FORCES AT 4.0 FOR 0.15')\n",
    "print(dfarray_1[9].describe())"
   ]
  },
  {
   "cell_type": "code",
   "execution_count": 88,
   "metadata": {},
   "outputs": [
    {
     "name": "stdout",
     "output_type": "stream",
     "text": [
      "FORCES AT 4.6 FOR 0.05\n",
      "                   0              1\n",
      "count  500000.000000  500000.000000\n",
      "mean    24999.950000       1.179215\n",
      "std     14433.771163      37.662315\n",
      "min         0.000000    -197.797000\n",
      "25%     12499.975000     -24.500750\n",
      "50%     24999.950000       1.288450\n",
      "75%     37499.925000      26.710350\n",
      "max     49999.900000     270.153000\n",
      "FORCES AT 4.6 FOR 0.45\n",
      "                   0              1\n",
      "count  500000.000000  500000.000000\n",
      "mean    24999.950000      -2.256789\n",
      "std     14433.771163      37.604399\n",
      "min         0.000000    -154.378000\n",
      "25%     12499.975000     -27.644475\n",
      "50%     24999.950000      -2.334965\n",
      "75%     37499.925000      22.904700\n",
      "max     49999.900000     271.176000\n",
      "FORCES AT 4.6 FOR 1.0\n",
      "                   0              1\n",
      "count  500000.000000  500000.000000\n",
      "mean    24999.950000      -2.061129\n",
      "std     14433.771163      38.787699\n",
      "min         0.000000    -143.414000\n",
      "25%     12499.975000     -28.304925\n",
      "50%     24999.950000      -2.419875\n",
      "75%     37499.925000      23.698175\n",
      "max     49999.900000     270.394000\n"
     ]
    }
   ],
   "source": [
    "#here are the dist of forces at 4.6 (far from surface)\n",
    "print('FORCES AT 4.6 FOR 0.05')\n",
    "print(dfarray_0_05[12].describe())\n",
    "print('FORCES AT 4.6 FOR 0.45')\n",
    "print(dfarray_0_45[12].describe())\n",
    "print('FORCES AT 4.6 FOR 1.0')\n",
    "print(dfarray_1[12].describe())"
   ]
  },
  {
   "cell_type": "code",
   "execution_count": 128,
   "metadata": {},
   "outputs": [
    {
     "data": {
      "text/plain": [
       "'file:///home/carlo/work/Johns_analysis/gm_popc_replex/pf_50ns/temp-plot.html'"
      ]
     },
     "execution_count": 128,
     "metadata": {},
     "output_type": "execute_result"
    }
   ],
   "source": [
    "#DISTRIBITUION OF FORCES WITH STD ERRORS\n",
    "\n",
    "force_mean_1_allwindow=[]\n",
    "force_mean_0_05_allwindow=[]\n",
    "force_mean_0_45_allwindow=[]\n",
    "force_mean_conv_allwindow=[]\n",
    "std_1_allwindow=[]\n",
    "std_0_05_allwindow=[]\n",
    "std_0_45_allwindow=[]\n",
    "std_conv_allwindow=[]\n",
    "\n",
    "for i in range(13):\n",
    "    force_mean_1_allwindow.append(dfarray_1[i].describe()[1][1])\n",
    "    std_1_allwindow.append(dfarray_1[i].describe()[1][2])\n",
    "    force_mean_0_45_allwindow.append(dfarray_0_45[i].describe()[1][1])\n",
    "    std_0_45_allwindow.append(dfarray_0_45[i].describe()[1][2])\n",
    "    force_mean_0_05_allwindow.append(dfarray_0_05[i].describe()[1][1])\n",
    "    std_0_05_allwindow.append(dfarray_0_05[i].describe()[1][2])\n",
    "    force_mean_conv_allwindow.append(dfarray_conv[i].describe()[1][1])\n",
    "    std_conv_allwindow.append(dfarray_conv[i].describe()[1][2])\n",
    "\n",
    "trace0 = go.Scatter(\n",
    "    x = range(13),\n",
    "    y = force_mean_0_05_allwindow ,\n",
    "    error_y=dict(\n",
    "            type='data',\n",
    "            array=std_0_05_allwindow ,\n",
    "            visible=True\n",
    "        )\n",
    ")\n",
    "\n",
    "trace1 = go.Scatter(\n",
    "    x = range(13),\n",
    "    y = force_mean_0_45_allwindow ,\n",
    "    error_y=dict(\n",
    "            type='data',\n",
    "            array=force_mean_0_45_allwindow,\n",
    "            visible=True\n",
    "        )\n",
    ")\n",
    "\n",
    "trace2 = go.Scatter(\n",
    "    x = range(13),\n",
    "    y = force_mean_1_allwindow ,\n",
    "    error_y=dict(\n",
    "            type='data',\n",
    "            array=std_1_allwindow,\n",
    "            visible=True\n",
    "        )\n",
    ")\n",
    "\n",
    "trace3 = go.Scatter(\n",
    "    x = range(13),\n",
    "    y = force_mean_conv_allwindow ,\n",
    "    error_y=dict(\n",
    "            type='data',\n",
    "            array=std_conv_allwindow,\n",
    "            visible=True\n",
    "        )\n",
    ")\n",
    "\n",
    "data1=[trace0,trace1,trace2,trace3]\n",
    "\n",
    "py.offline.plot(data1)"
   ]
  },
  {
   "cell_type": "code",
   "execution_count": 141,
   "metadata": {},
   "outputs": [
    {
     "name": "stdout",
     "output_type": "stream",
     "text": [
      "                   0              1\n",
      "count  600001.000000  600001.000000\n",
      "mean    30000.000000     -15.468302\n",
      "std     17320.551377      29.150547\n",
      "min         0.000000    -114.255000\n",
      "25%     15000.000000     -35.631700\n",
      "50%     30000.000000     -15.072800\n",
      "75%     45000.000000       4.677570\n",
      "max     60000.000000      85.451600\n",
      "                   0              1\n",
      "count  500000.000000  500000.000000\n",
      "mean   275000.050000     -58.288553\n",
      "std     14433.771163      21.275407\n",
      "min    250000.100000    -141.514000\n",
      "25%    262500.075000     -72.940725\n",
      "50%    275000.050000     -58.674600\n",
      "75%    287500.025000     -44.002400\n",
      "max    300000.000000      29.676500\n"
     ]
    },
    {
     "data": {
      "text/html": [
       "<div>\n",
       "<style scoped>\n",
       "    .dataframe tbody tr th:only-of-type {\n",
       "        vertical-align: middle;\n",
       "    }\n",
       "\n",
       "    .dataframe tbody tr th {\n",
       "        vertical-align: top;\n",
       "    }\n",
       "\n",
       "    .dataframe thead th {\n",
       "        text-align: right;\n",
       "    }\n",
       "</style>\n",
       "<table border=\"1\" class=\"dataframe\">\n",
       "  <thead>\n",
       "    <tr style=\"text-align: right;\">\n",
       "      <th></th>\n",
       "      <th>0</th>\n",
       "      <th>1</th>\n",
       "    </tr>\n",
       "  </thead>\n",
       "  <tbody>\n",
       "    <tr>\n",
       "      <th>count</th>\n",
       "      <td>500000.000000</td>\n",
       "      <td>500000.000000</td>\n",
       "    </tr>\n",
       "    <tr>\n",
       "      <th>mean</th>\n",
       "      <td>24999.950000</td>\n",
       "      <td>-77.047576</td>\n",
       "    </tr>\n",
       "    <tr>\n",
       "      <th>std</th>\n",
       "      <td>14433.771163</td>\n",
       "      <td>39.106668</td>\n",
       "    </tr>\n",
       "    <tr>\n",
       "      <th>min</th>\n",
       "      <td>0.000000</td>\n",
       "      <td>-246.847000</td>\n",
       "    </tr>\n",
       "    <tr>\n",
       "      <th>25%</th>\n",
       "      <td>12499.975000</td>\n",
       "      <td>-102.383000</td>\n",
       "    </tr>\n",
       "    <tr>\n",
       "      <th>50%</th>\n",
       "      <td>24999.950000</td>\n",
       "      <td>-76.578350</td>\n",
       "    </tr>\n",
       "    <tr>\n",
       "      <th>75%</th>\n",
       "      <td>37499.925000</td>\n",
       "      <td>-52.973575</td>\n",
       "    </tr>\n",
       "    <tr>\n",
       "      <th>max</th>\n",
       "      <td>49999.900000</td>\n",
       "      <td>99.685500</td>\n",
       "    </tr>\n",
       "  </tbody>\n",
       "</table>\n",
       "</div>"
      ],
      "text/plain": [
       "                   0              1\n",
       "count  500000.000000  500000.000000\n",
       "mean    24999.950000     -77.047576\n",
       "std     14433.771163      39.106668\n",
       "min         0.000000    -246.847000\n",
       "25%     12499.975000    -102.383000\n",
       "50%     24999.950000     -76.578350\n",
       "75%     37499.925000     -52.973575\n",
       "max     49999.900000      99.685500"
      ]
     },
     "execution_count": 141,
     "metadata": {},
     "output_type": "execute_result"
    }
   ],
   "source": [
    "temp=xs.xvgtotable_notitles('pf_gm_popc_dist_2.2_scaled_1.0-1.xvg')\n",
    "print(temp.describe())\n",
    "print(dfarray_conv[0].describe())\n",
    "dfarray_1[0].describe()\n"
   ]
  },
  {
   "cell_type": "code",
   "execution_count": null,
   "metadata": {},
   "outputs": [],
   "source": []
  }
 ],
 "metadata": {
  "kernelspec": {
   "display_name": "Python 2",
   "language": "python",
   "name": "python2"
  },
  "language_info": {
   "codemirror_mode": {
    "name": "ipython",
    "version": 2
   },
   "file_extension": ".py",
   "mimetype": "text/x-python",
   "name": "python",
   "nbconvert_exporter": "python",
   "pygments_lexer": "ipython2",
   "version": "2.7.15"
  }
 },
 "nbformat": 4,
 "nbformat_minor": 2
}
